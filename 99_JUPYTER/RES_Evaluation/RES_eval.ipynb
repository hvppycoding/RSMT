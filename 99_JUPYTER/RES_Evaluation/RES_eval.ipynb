{
 "cells": [
  {
   "cell_type": "markdown",
   "id": "646df03f",
   "metadata": {},
   "source": [
    "# RES Evaluation\n",
    "\n",
    "- The RES evaluation algorithm from the paper\n",
    "> J. Liu, G. Chen and E. F. Y. Young, \"REST: Constructing Rectilinear Steiner Minimum Tree via Reinforcement Learning,\" 2021 58th ACM/IEEE Design Automation Conference (DAC), San Francisco, CA, USA, 2021, pp. 1135-1140, doi: 10.1109/DAC18074.2021.9586209.\n",
    "\n",
    "$\\text{Input: }V = \\{ (x_1, y_1), ..., (x_n, y_n) \\},$\n",
    "\n",
    "$\\qquad res = ((v_1, h_1), ..., (v_{n-1}, h_{n-1}))$\n",
    "\n",
    "$\\text{Output: }length$\n",
    "\n",
    "$lx \\leftarrow x_i,\\ rx_i \\leftarrow x_i,\\ \\text{for}\\ i=1, ...,n$\n",
    "\n",
    "$ly \\leftarrow y_i,\\ hy_i \\leftarrow y_i,\\ \\text{for}\\ i=1, ...,n$\n",
    "\n",
    "$\\text{for}\\ i=1\\ \\text{to}\\ n-1\\ \\text{do}$\n",
    "\n",
    "$\\quad (v,h) \\leftarrow (v_i, h_i)$\n",
    "\n",
    "$\\quad ly_v \\leftarrow \\min(ly_v, y_h), hy_v \\leftarrow \\max(hy_v, y_h)$\n",
    "\n",
    "$\\quad lx_h \\leftarrow \\min(lx_h, x_v), rx_h \\leftarrow \\max(rx_h, x_v)$\n",
    "\n",
    "$length \\leftarrow \\sum_{i=1}^{n}{((hy_i - ly_i) + (rx_i - lx_i))}$\n",
    "\n",
    "$\\text{return}\\ length$"
   ]
  },
  {
   "cell_type": "code",
   "execution_count": 10,
   "id": "b9c5a92f",
   "metadata": {},
   "outputs": [],
   "source": [
    "import numpy as np\n",
    "\n",
    "\n",
    "def eval_res(x, y, res):\n",
    "    lx = np.array(x)\n",
    "    rx = np.array(x)\n",
    "    ly = np.array(y)\n",
    "    hy = np.array(y)\n",
    "    for v, h in res:\n",
    "        ly[v] = min(ly[v], y[h])\n",
    "        hy[v] = max(hy[v], y[h])\n",
    "        lx[h] = min(lx[h], x[v])\n",
    "        rx[h] = max(rx[h], x[v])\n",
    "    length = np.sum(hy - ly + rx - lx)\n",
    "    return length"
   ]
  },
  {
   "cell_type": "code",
   "execution_count": 13,
   "id": "277e543e",
   "metadata": {},
   "outputs": [],
   "source": [
    "x = [0, 2, 4, 5]\n",
    "y = [2, 5, 0, 4]\n",
    "res = [(2,0), (1,0), (3,0)]"
   ]
  },
  {
   "cell_type": "code",
   "execution_count": 14,
   "id": "918de4af",
   "metadata": {},
   "outputs": [
    {
     "data": {
      "text/plain": [
       "12"
      ]
     },
     "execution_count": 14,
     "metadata": {},
     "output_type": "execute_result"
    }
   ],
   "source": [
    "eval_res(x, y, res)"
   ]
  }
 ],
 "metadata": {
  "kernelspec": {
   "display_name": "Python 3 (ipykernel)",
   "language": "python",
   "name": "python3"
  },
  "language_info": {
   "codemirror_mode": {
    "name": "ipython",
    "version": 3
   },
   "file_extension": ".py",
   "mimetype": "text/x-python",
   "name": "python",
   "nbconvert_exporter": "python",
   "pygments_lexer": "ipython3",
   "version": "3.9.13"
  }
 },
 "nbformat": 4,
 "nbformat_minor": 5
}
